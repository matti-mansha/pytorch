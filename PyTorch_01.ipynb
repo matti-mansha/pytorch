{
  "nbformat": 4,
  "nbformat_minor": 0,
  "metadata": {
    "colab": {
      "provenance": [],
      "authorship_tag": "ABX9TyPQs0Ou4zb10N5Vn+qu+zJB",
      "include_colab_link": true
    },
    "kernelspec": {
      "name": "python3",
      "display_name": "Python 3"
    },
    "language_info": {
      "name": "python"
    },
    "gpuClass": "standard"
  },
  "cells": [
    {
      "cell_type": "markdown",
      "metadata": {
        "id": "view-in-github",
        "colab_type": "text"
      },
      "source": [
        "<a href=\"https://colab.research.google.com/github/matti-mansha/pytorch/blob/main/PyTorch_01.ipynb\" target=\"_parent\"><img src=\"https://colab.research.google.com/assets/colab-badge.svg\" alt=\"Open In Colab\"/></a>"
      ]
    },
    {
      "cell_type": "code",
      "execution_count": null,
      "metadata": {
        "colab": {
          "base_uri": "https://localhost:8080/"
        },
        "id": "is2yIWkeJboB",
        "outputId": "a13b13b1-ae69-4d8f-a82f-8526804dcd91"
      },
      "outputs": [
        {
          "output_type": "stream",
          "name": "stdout",
          "text": [
            "Welcome Matti! Good to see you...\n"
          ]
        }
      ],
      "source": [
        "print(\"Welcome Matti! Good to see you...\")"
      ]
    },
    {
      "cell_type": "code",
      "source": [
        "! nvidia-smi"
      ],
      "metadata": {
        "colab": {
          "base_uri": "https://localhost:8080/"
        },
        "id": "Ur49VdbCJmex",
        "outputId": "1b17782c-1236-4b77-c8a0-3c86db35b1bf"
      },
      "execution_count": null,
      "outputs": [
        {
          "output_type": "stream",
          "name": "stdout",
          "text": [
            "NVIDIA-SMI has failed because it couldn't communicate with the NVIDIA driver. Make sure that the latest NVIDIA driver is installed and running.\n",
            "\n"
          ]
        }
      ]
    },
    {
      "cell_type": "code",
      "source": [
        "import torch"
      ],
      "metadata": {
        "id": "WRkg2wghJvUJ"
      },
      "execution_count": null,
      "outputs": []
    },
    {
      "cell_type": "code",
      "source": [
        "print(torch.__version__)"
      ],
      "metadata": {
        "colab": {
          "base_uri": "https://localhost:8080/"
        },
        "id": "J2vjl7MPP3JF",
        "outputId": "dcec2373-d2ce-486e-90b2-e7b5fe2b84a5"
      },
      "execution_count": null,
      "outputs": [
        {
          "output_type": "stream",
          "name": "stdout",
          "text": [
            "1.12.1+cu113\n"
          ]
        }
      ]
    },
    {
      "cell_type": "markdown",
      "source": [
        "## Introduction to Tensor"
      ],
      "metadata": {
        "id": "ZXad9cCJRNBj"
      }
    },
    {
      "cell_type": "code",
      "source": [
        "# Vector\n",
        "vector = torch.tensor([[[7,7], \n",
        "                       [8,8]],\n",
        "                      [[5,5],\n",
        "                      [1,1]]])"
      ],
      "metadata": {
        "id": "WcyFVKdeRPyD"
      },
      "execution_count": null,
      "outputs": []
    },
    {
      "cell_type": "code",
      "source": [
        "vector"
      ],
      "metadata": {
        "colab": {
          "base_uri": "https://localhost:8080/"
        },
        "id": "CMiyb91NRbLk",
        "outputId": "e9df1643-f9e9-4c0b-a5c2-0736ed180aa5"
      },
      "execution_count": null,
      "outputs": [
        {
          "output_type": "execute_result",
          "data": {
            "text/plain": [
              "tensor([[[7, 7],\n",
              "         [8, 8]],\n",
              "\n",
              "        [[5, 5],\n",
              "         [1, 1]]])"
            ]
          },
          "metadata": {},
          "execution_count": 15
        }
      ]
    },
    {
      "cell_type": "code",
      "source": [
        "vector.shape"
      ],
      "metadata": {
        "colab": {
          "base_uri": "https://localhost:8080/"
        },
        "id": "nNFupYC4RcmE",
        "outputId": "3ef30164-ff16-4cef-e80e-66c75777ff93"
      },
      "execution_count": null,
      "outputs": [
        {
          "output_type": "execute_result",
          "data": {
            "text/plain": [
              "torch.Size([2, 2, 2])"
            ]
          },
          "metadata": {},
          "execution_count": 16
        }
      ]
    },
    {
      "cell_type": "code",
      "source": [
        "vector.ndim"
      ],
      "metadata": {
        "colab": {
          "base_uri": "https://localhost:8080/"
        },
        "id": "qpd7rOhCRskD",
        "outputId": "bb990975-8f7b-4e17-f13b-8076d9dc59e5"
      },
      "execution_count": null,
      "outputs": [
        {
          "output_type": "execute_result",
          "data": {
            "text/plain": [
              "3"
            ]
          },
          "metadata": {},
          "execution_count": 17
        }
      ]
    },
    {
      "cell_type": "code",
      "source": [
        "vector[0][0]"
      ],
      "metadata": {
        "colab": {
          "base_uri": "https://localhost:8080/"
        },
        "id": "XO-bzsEAURfL",
        "outputId": "630e8a44-10ec-4ed6-e985-c2d2df1f176b"
      },
      "execution_count": null,
      "outputs": [
        {
          "output_type": "execute_result",
          "data": {
            "text/plain": [
              "tensor([7, 7])"
            ]
          },
          "metadata": {},
          "execution_count": 26
        }
      ]
    },
    {
      "cell_type": "code",
      "source": [
        "# Scalar\n",
        "scalar = torch.tensor(10)"
      ],
      "metadata": {
        "id": "t0PbilfTTGUj"
      },
      "execution_count": null,
      "outputs": []
    },
    {
      "cell_type": "code",
      "source": [
        "scalar.ndim"
      ],
      "metadata": {
        "colab": {
          "base_uri": "https://localhost:8080/"
        },
        "id": "a3FkxCSwTKPi",
        "outputId": "56af349f-24c4-4304-8a4b-e81e115b24f0"
      },
      "execution_count": null,
      "outputs": [
        {
          "output_type": "execute_result",
          "data": {
            "text/plain": [
              "0"
            ]
          },
          "metadata": {},
          "execution_count": 22
        }
      ]
    },
    {
      "cell_type": "code",
      "source": [
        "scalar.item()"
      ],
      "metadata": {
        "colab": {
          "base_uri": "https://localhost:8080/"
        },
        "id": "xBCNo7gjToMS",
        "outputId": "5e5678ba-7835-4842-9bbe-0434be563a1c"
      },
      "execution_count": null,
      "outputs": [
        {
          "output_type": "execute_result",
          "data": {
            "text/plain": [
              "10"
            ]
          },
          "metadata": {},
          "execution_count": 23
        }
      ]
    },
    {
      "cell_type": "markdown",
      "source": [
        "## Random Tensors"
      ],
      "metadata": {
        "id": "kgMcHprmeT2K"
      }
    },
    {
      "cell_type": "code",
      "source": [
        "random_tensor = torch.rand((6, 8, 8))"
      ],
      "metadata": {
        "id": "r8_7N1SoTr5C"
      },
      "execution_count": null,
      "outputs": []
    },
    {
      "cell_type": "code",
      "source": [
        "random_tensor"
      ],
      "metadata": {
        "colab": {
          "base_uri": "https://localhost:8080/"
        },
        "id": "2sQS-nZZe2gK",
        "outputId": "4c05968f-f6bc-4fc8-e9a1-4278f97eb950"
      },
      "execution_count": null,
      "outputs": [
        {
          "output_type": "execute_result",
          "data": {
            "text/plain": [
              "tensor([[[0.4923, 0.4014, 0.5124, 0.9148, 0.8604, 0.2060, 0.9075, 0.3911],\n",
              "         [0.1148, 0.2188, 0.5434, 0.6814, 0.1224, 0.1488, 0.1902, 0.7029],\n",
              "         [0.6469, 0.7042, 0.5508, 0.4348, 0.7042, 0.9660, 0.3090, 0.8858],\n",
              "         [0.5666, 0.6371, 0.9581, 0.6622, 0.4478, 0.6330, 0.4241, 0.8705],\n",
              "         [0.5539, 0.4122, 0.9020, 0.1071, 0.2182, 0.0318, 0.3667, 0.0241],\n",
              "         [0.5330, 0.8719, 0.9053, 0.7226, 0.5378, 0.7310, 0.4530, 0.8565],\n",
              "         [0.5561, 0.2421, 0.8157, 0.1165, 0.8288, 0.6474, 0.4222, 0.8828],\n",
              "         [0.6589, 0.2241, 0.5270, 0.5739, 0.4740, 0.9905, 0.6986, 0.6137]],\n",
              "\n",
              "        [[0.8281, 0.9071, 0.2584, 0.8847, 0.1334, 0.8738, 0.3530, 0.3932],\n",
              "         [0.2375, 0.8657, 0.9790, 0.1135, 0.7679, 0.2913, 0.3129, 0.8811],\n",
              "         [0.4849, 0.4648, 0.0042, 0.3503, 0.4356, 0.8271, 0.8346, 0.9377],\n",
              "         [0.2942, 0.1522, 0.7262, 0.1999, 0.2222, 0.6066, 0.4194, 0.4340],\n",
              "         [0.1057, 0.3297, 0.6918, 0.1971, 0.5378, 0.7560, 0.7310, 0.0289],\n",
              "         [0.2803, 0.8340, 0.0862, 0.4775, 0.2892, 0.7119, 0.4274, 0.3244],\n",
              "         [0.9378, 0.6543, 0.6425, 0.2412, 0.9919, 0.3901, 0.6381, 0.4956],\n",
              "         [0.5288, 0.5799, 0.1088, 0.9769, 0.9834, 0.4996, 0.2718, 0.5174]],\n",
              "\n",
              "        [[0.8597, 0.8252, 0.0215, 0.6547, 0.6721, 0.6664, 0.9432, 0.9174],\n",
              "         [0.3872, 0.7090, 0.6201, 0.9229, 0.1587, 0.4592, 0.0778, 0.5721],\n",
              "         [0.5662, 0.9845, 0.2045, 0.0421, 0.3285, 0.9027, 0.0468, 0.6116],\n",
              "         [0.4869, 0.6834, 0.0206, 0.3438, 0.9320, 0.1792, 0.0793, 0.1692],\n",
              "         [0.2508, 0.2554, 0.5175, 0.6164, 0.0219, 0.4682, 0.4863, 0.3276],\n",
              "         [0.7389, 0.1814, 0.8642, 0.0560, 0.0625, 0.0779, 0.6582, 0.9132],\n",
              "         [0.1440, 0.9205, 0.2799, 0.0777, 0.8991, 0.0572, 0.8229, 0.5514],\n",
              "         [0.0737, 0.0808, 0.7898, 0.7197, 0.6422, 0.9342, 0.1372, 0.3763]],\n",
              "\n",
              "        [[0.9889, 0.6995, 0.8524, 0.6737, 0.0691, 0.6977, 0.0325, 0.3756],\n",
              "         [0.5062, 0.5624, 0.5881, 0.3823, 0.0728, 0.8159, 0.5977, 0.1032],\n",
              "         [0.6429, 0.7038, 0.4368, 0.0538, 0.7353, 0.0647, 0.3078, 0.9612],\n",
              "         [0.1595, 0.7697, 0.1899, 0.2728, 0.8990, 0.5495, 0.0703, 0.6091],\n",
              "         [0.0471, 0.1926, 0.0960, 0.3427, 0.8377, 0.6633, 0.9286, 0.6782],\n",
              "         [0.6999, 0.9396, 0.5325, 0.7419, 0.7947, 0.0867, 0.2857, 0.4201],\n",
              "         [0.1977, 0.9414, 0.4333, 0.2874, 0.3880, 0.5597, 0.2316, 0.1669],\n",
              "         [0.2135, 0.6230, 0.7377, 0.6535, 0.0561, 0.5241, 0.5394, 0.3597]],\n",
              "\n",
              "        [[0.8655, 0.9050, 0.9877, 0.3178, 0.3853, 0.4432, 0.0968, 0.1438],\n",
              "         [0.8781, 0.9600, 0.5253, 0.4513, 0.4998, 0.7416, 0.7128, 0.2168],\n",
              "         [0.5870, 0.7721, 0.3499, 0.7921, 0.3341, 0.7452, 0.1007, 0.4443],\n",
              "         [0.3921, 0.7258, 0.7207, 0.4677, 0.6039, 0.6700, 0.1636, 0.2493],\n",
              "         [0.3975, 0.4484, 0.7245, 0.9705, 0.1358, 0.5928, 0.7947, 0.5217],\n",
              "         [0.1375, 0.4535, 0.1919, 0.1855, 0.3762, 0.2281, 0.0776, 0.7488],\n",
              "         [0.6543, 0.6918, 0.2524, 0.6476, 0.1204, 0.2948, 0.3446, 0.0367],\n",
              "         [0.8307, 0.4167, 0.6633, 0.7695, 0.9643, 0.4555, 0.0122, 0.3270]],\n",
              "\n",
              "        [[0.1570, 0.6619, 0.5728, 0.2925, 0.3405, 0.1222, 0.7061, 0.4399],\n",
              "         [0.3671, 0.3979, 0.0748, 0.3981, 0.1083, 0.7389, 0.0698, 0.0640],\n",
              "         [0.7220, 0.7468, 0.7909, 0.9583, 0.5812, 0.8218, 0.8490, 0.8770],\n",
              "         [0.8642, 0.4462, 0.8710, 0.7049, 0.2100, 0.4494, 0.1248, 0.1255],\n",
              "         [0.0546, 0.9027, 0.1484, 0.7043, 0.4312, 0.0230, 0.8418, 0.2566],\n",
              "         [0.0973, 0.5202, 0.6096, 0.3911, 0.7255, 0.8569, 0.0318, 0.4958],\n",
              "         [0.1991, 0.8265, 0.0477, 0.7181, 0.4493, 0.0838, 0.9867, 0.7207],\n",
              "         [0.9246, 0.7555, 0.4578, 0.5886, 0.0931, 0.0811, 0.2940, 0.4358]]])"
            ]
          },
          "metadata": {},
          "execution_count": 34
        }
      ]
    },
    {
      "cell_type": "code",
      "source": [
        "random_tensor.shape"
      ],
      "metadata": {
        "colab": {
          "base_uri": "https://localhost:8080/"
        },
        "id": "Fpb1o7FSe3k5",
        "outputId": "512a8d50-fc0f-46ca-e845-2eb60817d714"
      },
      "execution_count": null,
      "outputs": [
        {
          "output_type": "execute_result",
          "data": {
            "text/plain": [
              "torch.Size([6, 8, 8])"
            ]
          },
          "metadata": {},
          "execution_count": 35
        }
      ]
    },
    {
      "cell_type": "code",
      "source": [
        "random_tensor.ndim"
      ],
      "metadata": {
        "colab": {
          "base_uri": "https://localhost:8080/"
        },
        "id": "myCQHwkafFNZ",
        "outputId": "7cd21d20-dfa1-47ef-c55e-53a36922ef4f"
      },
      "execution_count": null,
      "outputs": [
        {
          "output_type": "execute_result",
          "data": {
            "text/plain": [
              "3"
            ]
          },
          "metadata": {},
          "execution_count": 36
        }
      ]
    },
    {
      "cell_type": "markdown",
      "source": [
        "## Zeros and Ones"
      ],
      "metadata": {
        "id": "VGLwV0LSjiCu"
      }
    },
    {
      "cell_type": "code",
      "source": [
        "zeros = torch.zeros((2, 10))"
      ],
      "metadata": {
        "id": "RB3o2_BFfILJ"
      },
      "execution_count": null,
      "outputs": []
    },
    {
      "cell_type": "code",
      "source": [
        "zeros"
      ],
      "metadata": {
        "colab": {
          "base_uri": "https://localhost:8080/"
        },
        "id": "PqEDQKkEj5y2",
        "outputId": "50e94eb9-9d16-4d2b-81fc-08b816526de5"
      },
      "execution_count": null,
      "outputs": [
        {
          "output_type": "execute_result",
          "data": {
            "text/plain": [
              "tensor([[0., 0., 0., 0., 0., 0., 0., 0., 0., 0.],\n",
              "        [0., 0., 0., 0., 0., 0., 0., 0., 0., 0.]])"
            ]
          },
          "metadata": {},
          "execution_count": 38
        }
      ]
    },
    {
      "cell_type": "code",
      "source": [
        "zeros.ndim"
      ],
      "metadata": {
        "colab": {
          "base_uri": "https://localhost:8080/"
        },
        "id": "_fxrG7_ij6wG",
        "outputId": "533f11d4-b38c-4505-f35b-987112f1c974"
      },
      "execution_count": null,
      "outputs": [
        {
          "output_type": "execute_result",
          "data": {
            "text/plain": [
              "2"
            ]
          },
          "metadata": {},
          "execution_count": 39
        }
      ]
    },
    {
      "cell_type": "code",
      "source": [
        "zeros.shape"
      ],
      "metadata": {
        "colab": {
          "base_uri": "https://localhost:8080/"
        },
        "id": "0118y_xNj94F",
        "outputId": "a7ca6bcb-4e1d-442d-cf0d-25ebe36f947b"
      },
      "execution_count": null,
      "outputs": [
        {
          "output_type": "execute_result",
          "data": {
            "text/plain": [
              "torch.Size([2, 10])"
            ]
          },
          "metadata": {},
          "execution_count": 40
        }
      ]
    },
    {
      "cell_type": "code",
      "source": [
        "ones = torch.ones((3,7))"
      ],
      "metadata": {
        "id": "9jbC4w3Yj_9l"
      },
      "execution_count": null,
      "outputs": []
    },
    {
      "cell_type": "code",
      "source": [
        "ones"
      ],
      "metadata": {
        "colab": {
          "base_uri": "https://localhost:8080/"
        },
        "id": "XdnxNjjwkGh1",
        "outputId": "0b516340-0e49-43c2-ffda-2372da20e640"
      },
      "execution_count": null,
      "outputs": [
        {
          "output_type": "execute_result",
          "data": {
            "text/plain": [
              "tensor([[1., 1., 1., 1., 1., 1., 1.],\n",
              "        [1., 1., 1., 1., 1., 1., 1.],\n",
              "        [1., 1., 1., 1., 1., 1., 1.]])"
            ]
          },
          "metadata": {},
          "execution_count": 42
        }
      ]
    },
    {
      "cell_type": "code",
      "source": [
        "ones.dtype"
      ],
      "metadata": {
        "colab": {
          "base_uri": "https://localhost:8080/"
        },
        "id": "17cJMCNhkHBV",
        "outputId": "74402446-3f0a-4150-bf7f-8ac2a66737f8"
      },
      "execution_count": null,
      "outputs": [
        {
          "output_type": "execute_result",
          "data": {
            "text/plain": [
              "torch.float32"
            ]
          },
          "metadata": {},
          "execution_count": 43
        }
      ]
    },
    {
      "cell_type": "code",
      "source": [
        "one_ten = torch.arange(1, 11)"
      ],
      "metadata": {
        "id": "kk1fueQJkeTl"
      },
      "execution_count": null,
      "outputs": []
    },
    {
      "cell_type": "code",
      "source": [
        "one_ten"
      ],
      "metadata": {
        "colab": {
          "base_uri": "https://localhost:8080/"
        },
        "id": "wxfOrKafuR_d",
        "outputId": "aa9ed49c-4365-45e1-9019-ea74f08f7eeb"
      },
      "execution_count": null,
      "outputs": [
        {
          "output_type": "execute_result",
          "data": {
            "text/plain": [
              "tensor([ 1,  2,  3,  4,  5,  6,  7,  8,  9, 10])"
            ]
          },
          "metadata": {},
          "execution_count": 47
        }
      ]
    },
    {
      "cell_type": "code",
      "source": [
        "ten_zeros = torch.zeros_like(input=one_ten)"
      ],
      "metadata": {
        "id": "HrGx3jhOuThv"
      },
      "execution_count": null,
      "outputs": []
    },
    {
      "cell_type": "code",
      "source": [
        "ten_zeros"
      ],
      "metadata": {
        "colab": {
          "base_uri": "https://localhost:8080/"
        },
        "id": "recG3hLtuhx9",
        "outputId": "5bd869f3-1a75-4880-81c4-5a0dc02a21ef"
      },
      "execution_count": null,
      "outputs": [
        {
          "output_type": "execute_result",
          "data": {
            "text/plain": [
              "tensor([0, 0, 0, 0, 0, 0, 0, 0, 0, 0])"
            ]
          },
          "metadata": {},
          "execution_count": 49
        }
      ]
    },
    {
      "cell_type": "code",
      "source": [],
      "metadata": {
        "id": "cbj122Lpujht"
      },
      "execution_count": null,
      "outputs": []
    }
  ]
}