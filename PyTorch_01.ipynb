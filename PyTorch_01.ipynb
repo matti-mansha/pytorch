{
  "nbformat": 4,
  "nbformat_minor": 0,
  "metadata": {
    "colab": {
      "provenance": [],
      "authorship_tag": "ABX9TyPuXIJxmygOOLWMFmdWdcux",
      "include_colab_link": true
    },
    "kernelspec": {
      "name": "python3",
      "display_name": "Python 3"
    },
    "language_info": {
      "name": "python"
    },
    "gpuClass": "standard",
    "accelerator": "GPU"
  },
  "cells": [
    {
      "cell_type": "markdown",
      "metadata": {
        "id": "view-in-github",
        "colab_type": "text"
      },
      "source": [
        "<a href=\"https://colab.research.google.com/github/matti-mansha/pytorch/blob/main/PyTorch_01.ipynb\" target=\"_parent\"><img src=\"https://colab.research.google.com/assets/colab-badge.svg\" alt=\"Open In Colab\"/></a>"
      ]
    },
    {
      "cell_type": "code",
      "execution_count": null,
      "metadata": {
        "colab": {
          "base_uri": "https://localhost:8080/"
        },
        "id": "is2yIWkeJboB",
        "outputId": "ecdb05e1-3c0a-4015-f09a-dfd75b101a4d"
      },
      "outputs": [
        {
          "output_type": "stream",
          "name": "stdout",
          "text": [
            "Welcome Matti! Good to see you...\n"
          ]
        }
      ],
      "source": [
        "print(\"Welcome Matti! Good to see you...\")"
      ]
    },
    {
      "cell_type": "code",
      "source": [
        "! nvidia-smi"
      ],
      "metadata": {
        "colab": {
          "base_uri": "https://localhost:8080/"
        },
        "id": "Ur49VdbCJmex",
        "outputId": "e05c4d6f-2444-4cea-bca5-6f09ebc84f03"
      },
      "execution_count": null,
      "outputs": [
        {
          "output_type": "stream",
          "name": "stdout",
          "text": [
            "NVIDIA-SMI has failed because it couldn't communicate with the NVIDIA driver. Make sure that the latest NVIDIA driver is installed and running.\n",
            "\n"
          ]
        }
      ]
    },
    {
      "cell_type": "code",
      "source": [
        "import torch"
      ],
      "metadata": {
        "id": "WRkg2wghJvUJ"
      },
      "execution_count": null,
      "outputs": []
    },
    {
      "cell_type": "code",
      "source": [
        "print(torch.__version__)"
      ],
      "metadata": {
        "colab": {
          "base_uri": "https://localhost:8080/"
        },
        "id": "J2vjl7MPP3JF",
        "outputId": "3ef18ab2-e341-49cd-f514-acd2218a93bc"
      },
      "execution_count": null,
      "outputs": [
        {
          "output_type": "stream",
          "name": "stdout",
          "text": [
            "1.12.1+cu113\n"
          ]
        }
      ]
    },
    {
      "cell_type": "markdown",
      "source": [
        "## Introduction to Tensor"
      ],
      "metadata": {
        "id": "ZXad9cCJRNBj"
      }
    },
    {
      "cell_type": "code",
      "source": [
        "# Vector\n",
        "vector = torch.tensor([[[7,7], \n",
        "                       [8,8]],\n",
        "                      [[5,5],\n",
        "                      [1,1]]])"
      ],
      "metadata": {
        "id": "WcyFVKdeRPyD"
      },
      "execution_count": null,
      "outputs": []
    },
    {
      "cell_type": "code",
      "source": [
        "vector"
      ],
      "metadata": {
        "colab": {
          "base_uri": "https://localhost:8080/"
        },
        "id": "CMiyb91NRbLk",
        "outputId": "56606d21-68af-4bc4-9cc6-e68ca491b5a4"
      },
      "execution_count": null,
      "outputs": [
        {
          "output_type": "execute_result",
          "data": {
            "text/plain": [
              "tensor([[[7, 7],\n",
              "         [8, 8]],\n",
              "\n",
              "        [[5, 5],\n",
              "         [1, 1]]])"
            ]
          },
          "metadata": {},
          "execution_count": 85
        }
      ]
    },
    {
      "cell_type": "code",
      "source": [
        "vector.shape"
      ],
      "metadata": {
        "colab": {
          "base_uri": "https://localhost:8080/"
        },
        "id": "nNFupYC4RcmE",
        "outputId": "05fe7cc9-19e3-4e14-ee82-52f9e206fc5a"
      },
      "execution_count": null,
      "outputs": [
        {
          "output_type": "execute_result",
          "data": {
            "text/plain": [
              "torch.Size([2, 2, 2])"
            ]
          },
          "metadata": {},
          "execution_count": 86
        }
      ]
    },
    {
      "cell_type": "code",
      "source": [
        "vector.ndim"
      ],
      "metadata": {
        "colab": {
          "base_uri": "https://localhost:8080/"
        },
        "id": "qpd7rOhCRskD",
        "outputId": "f8110763-1ee5-4baa-e5a8-fb1adc20d16b"
      },
      "execution_count": null,
      "outputs": [
        {
          "output_type": "execute_result",
          "data": {
            "text/plain": [
              "3"
            ]
          },
          "metadata": {},
          "execution_count": 87
        }
      ]
    },
    {
      "cell_type": "code",
      "source": [
        "vector[0][0]"
      ],
      "metadata": {
        "colab": {
          "base_uri": "https://localhost:8080/"
        },
        "id": "XO-bzsEAURfL",
        "outputId": "c8bf8cc2-1fc4-4326-b8d8-937b0ca4f877"
      },
      "execution_count": null,
      "outputs": [
        {
          "output_type": "execute_result",
          "data": {
            "text/plain": [
              "tensor([7, 7])"
            ]
          },
          "metadata": {},
          "execution_count": 88
        }
      ]
    },
    {
      "cell_type": "code",
      "source": [
        "# Scalar\n",
        "scalar = torch.tensor(10)"
      ],
      "metadata": {
        "id": "t0PbilfTTGUj"
      },
      "execution_count": null,
      "outputs": []
    },
    {
      "cell_type": "code",
      "source": [
        "scalar.ndim"
      ],
      "metadata": {
        "colab": {
          "base_uri": "https://localhost:8080/"
        },
        "id": "a3FkxCSwTKPi",
        "outputId": "89328ff4-d1a6-449f-b356-7f8b4edb0ca1"
      },
      "execution_count": null,
      "outputs": [
        {
          "output_type": "execute_result",
          "data": {
            "text/plain": [
              "0"
            ]
          },
          "metadata": {},
          "execution_count": 90
        }
      ]
    },
    {
      "cell_type": "code",
      "source": [
        "scalar.item()"
      ],
      "metadata": {
        "colab": {
          "base_uri": "https://localhost:8080/"
        },
        "id": "xBCNo7gjToMS",
        "outputId": "a7d8a6da-fb27-4e33-dee2-34504ff53676"
      },
      "execution_count": null,
      "outputs": [
        {
          "output_type": "execute_result",
          "data": {
            "text/plain": [
              "10"
            ]
          },
          "metadata": {},
          "execution_count": 91
        }
      ]
    },
    {
      "cell_type": "markdown",
      "source": [
        "## Random Tensors"
      ],
      "metadata": {
        "id": "kgMcHprmeT2K"
      }
    },
    {
      "cell_type": "code",
      "source": [
        "random_tensor = torch.rand((6, 8, 8))"
      ],
      "metadata": {
        "id": "r8_7N1SoTr5C"
      },
      "execution_count": null,
      "outputs": []
    },
    {
      "cell_type": "code",
      "source": [
        "random_tensor"
      ],
      "metadata": {
        "colab": {
          "base_uri": "https://localhost:8080/"
        },
        "id": "2sQS-nZZe2gK",
        "outputId": "9d0dec6a-195e-49cf-b5a0-b03c91813046"
      },
      "execution_count": null,
      "outputs": [
        {
          "output_type": "execute_result",
          "data": {
            "text/plain": [
              "tensor([[[6.8553e-01, 7.1417e-01, 9.6362e-01, 8.6593e-01, 4.0218e-01,\n",
              "          8.1678e-02, 3.0933e-02, 1.8820e-01],\n",
              "         [4.0933e-01, 9.6270e-01, 5.5919e-01, 1.4436e-01, 7.1129e-01,\n",
              "          6.2276e-01, 3.3577e-01, 7.0694e-02],\n",
              "         [4.4004e-01, 6.8092e-01, 4.0966e-01, 3.4066e-01, 6.7125e-01,\n",
              "          7.4605e-01, 8.1588e-01, 4.9164e-01],\n",
              "         [6.4727e-01, 6.0480e-01, 5.9511e-01, 8.0750e-01, 5.7788e-01,\n",
              "          7.3190e-01, 2.4046e-01, 6.5559e-01],\n",
              "         [6.1885e-01, 5.9121e-01, 5.7220e-01, 4.7867e-01, 9.1186e-01,\n",
              "          2.3022e-01, 3.4257e-01, 6.5713e-01],\n",
              "         [1.4594e-01, 2.7409e-03, 9.2940e-01, 5.2420e-01, 4.9905e-02,\n",
              "          3.9046e-01, 1.2427e-01, 4.5995e-01],\n",
              "         [6.9588e-01, 4.2713e-02, 9.8981e-02, 4.0840e-01, 7.6233e-01,\n",
              "          5.0965e-01, 8.9860e-01, 2.8328e-01],\n",
              "         [3.6676e-01, 1.5939e-01, 5.1803e-01, 9.2842e-01, 5.2125e-01,\n",
              "          5.1649e-01, 2.6150e-02, 2.1773e-02]],\n",
              "\n",
              "        [[2.2079e-01, 1.3296e-01, 5.7769e-01, 8.3141e-01, 3.4243e-01,\n",
              "          7.1518e-02, 1.5047e-01, 8.3167e-01],\n",
              "         [9.9107e-01, 8.6489e-01, 9.3041e-01, 7.2775e-01, 2.1351e-01,\n",
              "          7.1581e-01, 3.1191e-01, 5.7297e-01],\n",
              "         [6.3439e-01, 7.2639e-01, 6.4621e-01, 8.8428e-01, 5.7498e-01,\n",
              "          2.7439e-01, 1.3286e-01, 7.4572e-02],\n",
              "         [2.6528e-01, 1.8002e-01, 8.1308e-01, 2.4036e-01, 3.8006e-01,\n",
              "          9.0879e-01, 8.3919e-01, 3.6209e-01],\n",
              "         [7.1559e-01, 7.7156e-01, 1.3731e-01, 7.9876e-01, 5.0245e-01,\n",
              "          8.5261e-01, 9.6371e-01, 7.2536e-01],\n",
              "         [7.0688e-01, 3.0652e-01, 6.9626e-01, 3.1138e-01, 5.6331e-01,\n",
              "          9.4597e-01, 5.5499e-01, 7.2268e-01],\n",
              "         [5.1447e-01, 9.6730e-01, 3.1934e-01, 3.5843e-01, 7.9511e-01,\n",
              "          8.9095e-02, 6.2669e-01, 2.5238e-01],\n",
              "         [5.8717e-01, 6.6486e-01, 8.4030e-01, 6.9847e-01, 9.3798e-01,\n",
              "          1.9593e-01, 7.7478e-01, 8.3944e-01]],\n",
              "\n",
              "        [[9.6191e-01, 4.8709e-01, 7.6212e-02, 2.1682e-01, 6.0925e-01,\n",
              "          8.9951e-02, 1.4477e-01, 8.1473e-01],\n",
              "         [5.8324e-01, 6.2457e-01, 4.8595e-01, 4.3055e-01, 6.5591e-01,\n",
              "          6.0493e-01, 9.0472e-01, 2.8223e-01],\n",
              "         [9.9531e-01, 6.8330e-01, 3.1795e-01, 6.1962e-01, 3.5543e-01,\n",
              "          7.0315e-01, 1.0544e-01, 2.9809e-01],\n",
              "         [2.8931e-01, 6.1574e-01, 4.2109e-01, 5.5247e-01, 5.4363e-01,\n",
              "          7.5483e-01, 7.7637e-01, 4.7134e-01],\n",
              "         [9.4128e-04, 5.8194e-01, 9.7270e-01, 6.7237e-01, 9.5397e-01,\n",
              "          8.6044e-01, 6.4360e-01, 2.8297e-01],\n",
              "         [1.3487e-01, 5.0708e-01, 9.3809e-01, 5.2609e-01, 5.7356e-01,\n",
              "          7.6582e-01, 2.5246e-03, 9.7567e-01],\n",
              "         [4.6886e-02, 5.0695e-01, 3.9493e-01, 1.8116e-01, 6.3513e-01,\n",
              "          6.8070e-01, 6.1393e-01, 1.5456e-01],\n",
              "         [3.0748e-01, 1.4852e-01, 7.7862e-01, 3.4723e-02, 5.1644e-03,\n",
              "          2.3252e-01, 7.3314e-01, 1.1560e-01]],\n",
              "\n",
              "        [[4.3133e-01, 6.3193e-01, 4.3634e-01, 1.4320e-01, 3.2714e-01,\n",
              "          1.6327e-02, 8.4280e-01, 6.0433e-01],\n",
              "         [3.0140e-01, 4.9354e-01, 8.1187e-01, 4.3920e-01, 6.4078e-02,\n",
              "          5.8686e-01, 9.6470e-01, 8.2600e-01],\n",
              "         [3.5563e-01, 5.9296e-01, 2.3153e-01, 2.8856e-02, 8.5294e-01,\n",
              "          1.6792e-01, 7.9201e-01, 9.4247e-01],\n",
              "         [5.6432e-01, 9.3069e-01, 8.8967e-01, 6.6839e-01, 4.7628e-01,\n",
              "          8.5763e-01, 7.5013e-01, 7.6667e-01],\n",
              "         [4.7896e-01, 1.0742e-01, 4.2721e-01, 4.7423e-01, 3.2184e-01,\n",
              "          8.7923e-01, 7.1979e-02, 8.3117e-01],\n",
              "         [3.8777e-01, 5.1118e-01, 8.3123e-01, 1.8705e-01, 2.7969e-01,\n",
              "          3.0581e-01, 7.9243e-01, 4.6024e-02],\n",
              "         [2.9734e-01, 7.9500e-02, 7.4002e-01, 2.8656e-01, 6.8085e-01,\n",
              "          4.2845e-01, 1.9298e-02, 3.7033e-01],\n",
              "         [4.5521e-01, 6.8313e-04, 1.8187e-01, 2.7481e-01, 2.2063e-01,\n",
              "          2.5993e-01, 9.2531e-01, 7.6440e-01]],\n",
              "\n",
              "        [[7.1433e-01, 1.9800e-01, 4.4584e-02, 1.4318e-01, 9.7716e-01,\n",
              "          7.4460e-02, 4.1690e-01, 1.2939e-01],\n",
              "         [6.7410e-01, 6.6484e-01, 5.6902e-01, 3.1077e-01, 3.6010e-01,\n",
              "          5.8062e-01, 2.8964e-01, 3.6087e-01],\n",
              "         [6.6426e-01, 8.6604e-01, 9.2361e-01, 1.1717e-01, 2.4384e-01,\n",
              "          4.7135e-02, 1.3242e-01, 9.5681e-01],\n",
              "         [6.5942e-01, 5.9187e-01, 9.0241e-01, 6.0167e-01, 3.3269e-01,\n",
              "          6.8674e-01, 2.0340e-01, 8.0124e-02],\n",
              "         [6.7508e-01, 2.3282e-01, 8.8122e-01, 9.5958e-01, 4.8798e-01,\n",
              "          4.5762e-01, 9.5172e-02, 5.1617e-01],\n",
              "         [2.8223e-01, 6.0418e-01, 4.4396e-01, 7.3742e-01, 7.1674e-02,\n",
              "          6.9026e-01, 9.1333e-01, 3.3282e-01],\n",
              "         [7.8300e-01, 4.1832e-01, 7.8937e-01, 8.2765e-01, 7.3325e-01,\n",
              "          7.4377e-01, 6.6333e-01, 2.5114e-01],\n",
              "         [7.4939e-02, 2.6232e-02, 8.3179e-01, 6.5268e-01, 3.7849e-02,\n",
              "          9.1010e-01, 5.9420e-01, 8.7547e-02]],\n",
              "\n",
              "        [[2.6974e-01, 2.1396e-01, 2.8324e-01, 6.8919e-01, 5.9885e-01,\n",
              "          8.2312e-02, 6.1470e-01, 4.4389e-01],\n",
              "         [7.3145e-01, 2.7843e-01, 1.0950e-01, 1.2853e-01, 1.5911e-01,\n",
              "          1.0827e-01, 1.7869e-01, 1.1105e-01],\n",
              "         [1.1466e-01, 1.9662e-02, 4.3308e-01, 4.4659e-02, 6.8473e-01,\n",
              "          8.8545e-01, 9.9467e-01, 3.5584e-01],\n",
              "         [5.1836e-01, 5.9523e-02, 4.4681e-01, 7.1205e-01, 8.2991e-02,\n",
              "          9.5282e-01, 6.1987e-01, 3.4571e-01],\n",
              "         [4.9681e-02, 5.3462e-01, 7.9237e-01, 1.3279e-01, 6.7629e-01,\n",
              "          6.0493e-01, 6.2902e-01, 3.1418e-01],\n",
              "         [7.8277e-01, 5.6878e-01, 8.9698e-01, 5.1724e-01, 2.3561e-01,\n",
              "          1.8027e-02, 3.9915e-01, 1.9718e-01],\n",
              "         [2.0573e-01, 5.8479e-01, 3.2025e-01, 7.5144e-01, 7.0386e-01,\n",
              "          4.2979e-01, 5.9971e-03, 5.9610e-01],\n",
              "         [1.1510e-01, 3.4807e-01, 4.7657e-01, 8.5240e-01, 1.5827e-02,\n",
              "          3.1459e-01, 9.8746e-01, 6.3534e-01]]])"
            ]
          },
          "metadata": {},
          "execution_count": 93
        }
      ]
    },
    {
      "cell_type": "code",
      "source": [
        "random_tensor.shape"
      ],
      "metadata": {
        "colab": {
          "base_uri": "https://localhost:8080/"
        },
        "id": "Fpb1o7FSe3k5",
        "outputId": "a12eaa58-1507-4a67-d061-9efb399c54fa"
      },
      "execution_count": null,
      "outputs": [
        {
          "output_type": "execute_result",
          "data": {
            "text/plain": [
              "torch.Size([6, 8, 8])"
            ]
          },
          "metadata": {},
          "execution_count": 94
        }
      ]
    },
    {
      "cell_type": "code",
      "source": [
        "random_tensor.ndim"
      ],
      "metadata": {
        "colab": {
          "base_uri": "https://localhost:8080/"
        },
        "id": "myCQHwkafFNZ",
        "outputId": "57dfb8c9-7354-4475-bd88-f11e42e053c1"
      },
      "execution_count": null,
      "outputs": [
        {
          "output_type": "execute_result",
          "data": {
            "text/plain": [
              "3"
            ]
          },
          "metadata": {},
          "execution_count": 95
        }
      ]
    },
    {
      "cell_type": "markdown",
      "source": [
        "## Zeros and Ones"
      ],
      "metadata": {
        "id": "VGLwV0LSjiCu"
      }
    },
    {
      "cell_type": "code",
      "source": [
        "zeros = torch.zeros((2, 10))"
      ],
      "metadata": {
        "id": "RB3o2_BFfILJ"
      },
      "execution_count": null,
      "outputs": []
    },
    {
      "cell_type": "code",
      "source": [
        "zeros"
      ],
      "metadata": {
        "colab": {
          "base_uri": "https://localhost:8080/"
        },
        "id": "PqEDQKkEj5y2",
        "outputId": "5a51d102-cc9c-4d48-89e3-c43c6917e672"
      },
      "execution_count": null,
      "outputs": [
        {
          "output_type": "execute_result",
          "data": {
            "text/plain": [
              "tensor([[0., 0., 0., 0., 0., 0., 0., 0., 0., 0.],\n",
              "        [0., 0., 0., 0., 0., 0., 0., 0., 0., 0.]])"
            ]
          },
          "metadata": {},
          "execution_count": 97
        }
      ]
    },
    {
      "cell_type": "code",
      "source": [
        "zeros.ndim"
      ],
      "metadata": {
        "colab": {
          "base_uri": "https://localhost:8080/"
        },
        "id": "_fxrG7_ij6wG",
        "outputId": "7a782ac4-5ef2-4499-ad7e-959e62b0d29f"
      },
      "execution_count": null,
      "outputs": [
        {
          "output_type": "execute_result",
          "data": {
            "text/plain": [
              "2"
            ]
          },
          "metadata": {},
          "execution_count": 98
        }
      ]
    },
    {
      "cell_type": "code",
      "source": [
        "zeros.shape"
      ],
      "metadata": {
        "colab": {
          "base_uri": "https://localhost:8080/"
        },
        "id": "0118y_xNj94F",
        "outputId": "ae253a5a-1e96-4721-911b-4ffa8fefbeea"
      },
      "execution_count": null,
      "outputs": [
        {
          "output_type": "execute_result",
          "data": {
            "text/plain": [
              "torch.Size([2, 10])"
            ]
          },
          "metadata": {},
          "execution_count": 99
        }
      ]
    },
    {
      "cell_type": "code",
      "source": [
        "ones = torch.ones((3,7))"
      ],
      "metadata": {
        "id": "9jbC4w3Yj_9l"
      },
      "execution_count": null,
      "outputs": []
    },
    {
      "cell_type": "code",
      "source": [
        "ones"
      ],
      "metadata": {
        "colab": {
          "base_uri": "https://localhost:8080/"
        },
        "id": "XdnxNjjwkGh1",
        "outputId": "b586f051-24ed-429b-ef00-b55113ae116a"
      },
      "execution_count": null,
      "outputs": [
        {
          "output_type": "execute_result",
          "data": {
            "text/plain": [
              "tensor([[1., 1., 1., 1., 1., 1., 1.],\n",
              "        [1., 1., 1., 1., 1., 1., 1.],\n",
              "        [1., 1., 1., 1., 1., 1., 1.]])"
            ]
          },
          "metadata": {},
          "execution_count": 101
        }
      ]
    },
    {
      "cell_type": "code",
      "source": [
        "ones.dtype"
      ],
      "metadata": {
        "colab": {
          "base_uri": "https://localhost:8080/"
        },
        "id": "17cJMCNhkHBV",
        "outputId": "f1f2571c-46ac-4fc6-e17f-80d0708ce0c1"
      },
      "execution_count": null,
      "outputs": [
        {
          "output_type": "execute_result",
          "data": {
            "text/plain": [
              "torch.float32"
            ]
          },
          "metadata": {},
          "execution_count": 102
        }
      ]
    },
    {
      "cell_type": "code",
      "source": [
        "one_ten = torch.arange(1, 11)"
      ],
      "metadata": {
        "id": "kk1fueQJkeTl"
      },
      "execution_count": null,
      "outputs": []
    },
    {
      "cell_type": "code",
      "source": [
        "one_ten"
      ],
      "metadata": {
        "colab": {
          "base_uri": "https://localhost:8080/"
        },
        "id": "wxfOrKafuR_d",
        "outputId": "055bda2c-36a3-4b4a-f61c-34c40debc4cf"
      },
      "execution_count": null,
      "outputs": [
        {
          "output_type": "execute_result",
          "data": {
            "text/plain": [
              "tensor([ 1,  2,  3,  4,  5,  6,  7,  8,  9, 10])"
            ]
          },
          "metadata": {},
          "execution_count": 104
        }
      ]
    },
    {
      "cell_type": "code",
      "source": [
        "ten_zeros = torch.zeros_like(input=one_ten)"
      ],
      "metadata": {
        "id": "HrGx3jhOuThv"
      },
      "execution_count": null,
      "outputs": []
    },
    {
      "cell_type": "code",
      "source": [
        "ten_zeros"
      ],
      "metadata": {
        "colab": {
          "base_uri": "https://localhost:8080/"
        },
        "id": "recG3hLtuhx9",
        "outputId": "ceeb773d-3d34-490f-bcad-2ab7c4b38a96"
      },
      "execution_count": null,
      "outputs": [
        {
          "output_type": "execute_result",
          "data": {
            "text/plain": [
              "tensor([0, 0, 0, 0, 0, 0, 0, 0, 0, 0])"
            ]
          },
          "metadata": {},
          "execution_count": 106
        }
      ]
    },
    {
      "cell_type": "code",
      "source": [],
      "metadata": {
        "id": "cbj122Lpujht"
      },
      "execution_count": null,
      "outputs": []
    },
    {
      "cell_type": "markdown",
      "source": [
        "## Tensor Datatypes"
      ],
      "metadata": {
        "id": "10Z17p_MKMMv"
      }
    },
    {
      "cell_type": "code",
      "source": [
        "# Float 32 tensor\n",
        "float_32_tensor = torch.tensor([3.0, 6., 9.],\n",
        "                              dtype=None,\n",
        "                              device=None,\n",
        "                              requires_grad=False)"
      ],
      "metadata": {
        "id": "2fH6Nac0KPql"
      },
      "execution_count": null,
      "outputs": []
    },
    {
      "cell_type": "code",
      "source": [
        "float_32_tensor.dtype"
      ],
      "metadata": {
        "colab": {
          "base_uri": "https://localhost:8080/"
        },
        "id": "2sCVC3tKKvC2",
        "outputId": "e98fd451-53df-447e-d276-4b341d8d7b7a"
      },
      "execution_count": null,
      "outputs": [
        {
          "output_type": "execute_result",
          "data": {
            "text/plain": [
              "torch.float32"
            ]
          },
          "metadata": {},
          "execution_count": 108
        }
      ]
    },
    {
      "cell_type": "code",
      "source": [
        "# Float 32 tensor\n",
        "float_16_tensor = torch.tensor([3.0, 6., 9.],\n",
        "                              dtype=torch.float16,\n",
        "                              device='cpu',\n",
        "                              requires_grad=False)"
      ],
      "metadata": {
        "id": "VYMSebHiK6zt"
      },
      "execution_count": null,
      "outputs": []
    },
    {
      "cell_type": "code",
      "source": [
        "float_16_tensor.dtype"
      ],
      "metadata": {
        "colab": {
          "base_uri": "https://localhost:8080/"
        },
        "id": "X6fC7tLFLhzN",
        "outputId": "4e56b023-c85f-43b9-8878-b04c7c33ca61"
      },
      "execution_count": null,
      "outputs": [
        {
          "output_type": "execute_result",
          "data": {
            "text/plain": [
              "torch.float16"
            ]
          },
          "metadata": {},
          "execution_count": 110
        }
      ]
    },
    {
      "cell_type": "code",
      "source": [
        "# casting\n",
        "float_64_tensor = float_16_tensor.type(torch.float64)"
      ],
      "metadata": {
        "id": "jiASQeUALjFN"
      },
      "execution_count": null,
      "outputs": []
    },
    {
      "cell_type": "code",
      "source": [
        "float_64_tensor"
      ],
      "metadata": {
        "colab": {
          "base_uri": "https://localhost:8080/"
        },
        "id": "QE6hpdrSMlE8",
        "outputId": "6e876761-b939-4b04-d58f-787dd75595f0"
      },
      "execution_count": null,
      "outputs": [
        {
          "output_type": "execute_result",
          "data": {
            "text/plain": [
              "tensor([3., 6., 9.], dtype=torch.float64)"
            ]
          },
          "metadata": {},
          "execution_count": 112
        }
      ]
    },
    {
      "cell_type": "code",
      "source": [
        "float_64_tensor * float_16_tensor"
      ],
      "metadata": {
        "colab": {
          "base_uri": "https://localhost:8080/"
        },
        "id": "mX6kdAhvM0JM",
        "outputId": "4336e79e-eeb5-4aff-b984-3f2e39183b2a"
      },
      "execution_count": null,
      "outputs": [
        {
          "output_type": "execute_result",
          "data": {
            "text/plain": [
              "tensor([ 9., 36., 81.], dtype=torch.float64)"
            ]
          },
          "metadata": {},
          "execution_count": 113
        }
      ]
    },
    {
      "cell_type": "code",
      "source": [
        "print(float_64_tensor.dtype)\n",
        "print(float_64_tensor.ndim)\n",
        "print(float_64_tensor.shape)\n",
        "print(float_64_tensor.device)"
      ],
      "metadata": {
        "colab": {
          "base_uri": "https://localhost:8080/"
        },
        "id": "hWnTJZMAM9eM",
        "outputId": "c379eeb5-91ec-4bec-8704-a90dccb0f597"
      },
      "execution_count": null,
      "outputs": [
        {
          "output_type": "stream",
          "name": "stdout",
          "text": [
            "torch.float64\n",
            "1\n",
            "torch.Size([3])\n",
            "cpu\n"
          ]
        }
      ]
    },
    {
      "cell_type": "code",
      "source": [],
      "metadata": {
        "id": "8MDVY4HaNqnM"
      },
      "execution_count": null,
      "outputs": []
    },
    {
      "cell_type": "markdown",
      "source": [
        "## Manipulating Tensors\n",
        "* Addition\n",
        "* Subtraction\n",
        "* Multiplication\n",
        "* Division\n",
        "* Matrix multiplication"
      ],
      "metadata": {
        "id": "txHvyncqPSKa"
      }
    },
    {
      "cell_type": "code",
      "source": [
        "tensor = torch.tensor([1, 2, 3])"
      ],
      "metadata": {
        "id": "cptAViZ9PkoE"
      },
      "execution_count": null,
      "outputs": []
    },
    {
      "cell_type": "code",
      "source": [
        "tensor + 10"
      ],
      "metadata": {
        "colab": {
          "base_uri": "https://localhost:8080/"
        },
        "id": "e6uMCg8cPsut",
        "outputId": "2fc3c4e6-8c28-40ee-c9b7-7201842242a9"
      },
      "execution_count": null,
      "outputs": [
        {
          "output_type": "execute_result",
          "data": {
            "text/plain": [
              "tensor([11, 12, 13])"
            ]
          },
          "metadata": {},
          "execution_count": 116
        }
      ]
    },
    {
      "cell_type": "code",
      "source": [
        "tensor - 10"
      ],
      "metadata": {
        "colab": {
          "base_uri": "https://localhost:8080/"
        },
        "id": "BiHw0iCpPvIN",
        "outputId": "edaf4424-275a-431e-83f6-a91fd395518a"
      },
      "execution_count": null,
      "outputs": [
        {
          "output_type": "execute_result",
          "data": {
            "text/plain": [
              "tensor([-9, -8, -7])"
            ]
          },
          "metadata": {},
          "execution_count": 117
        }
      ]
    },
    {
      "cell_type": "code",
      "source": [
        "tensor * 10"
      ],
      "metadata": {
        "colab": {
          "base_uri": "https://localhost:8080/"
        },
        "id": "no4uowUWPyUo",
        "outputId": "c4ee4fa0-02b3-4706-e41e-175bc1a834d6"
      },
      "execution_count": null,
      "outputs": [
        {
          "output_type": "execute_result",
          "data": {
            "text/plain": [
              "tensor([10, 20, 30])"
            ]
          },
          "metadata": {},
          "execution_count": 118
        }
      ]
    },
    {
      "cell_type": "code",
      "source": [
        "tensor / 10"
      ],
      "metadata": {
        "colab": {
          "base_uri": "https://localhost:8080/"
        },
        "id": "h05SGs3AP0h4",
        "outputId": "9effc1dd-3dfb-4826-cfa8-803193838b2c"
      },
      "execution_count": null,
      "outputs": [
        {
          "output_type": "execute_result",
          "data": {
            "text/plain": [
              "tensor([0.1000, 0.2000, 0.3000])"
            ]
          },
          "metadata": {},
          "execution_count": 119
        }
      ]
    },
    {
      "cell_type": "code",
      "source": [
        "mat1 = torch.tensor([[10, 20],\n",
        "                     [40, 50]])\n",
        "\n",
        "mat2 = torch.tensor([[11, 21],\n",
        "                     [41, 51]])"
      ],
      "metadata": {
        "id": "FLd4mJegP3VY"
      },
      "execution_count": null,
      "outputs": []
    },
    {
      "cell_type": "code",
      "source": [
        "torch.matmul(mat1, mat2)"
      ],
      "metadata": {
        "colab": {
          "base_uri": "https://localhost:8080/"
        },
        "id": "DCEBxu6aRCDJ",
        "outputId": "ea8a37fa-2524-423c-c92a-e54d8727ba52"
      },
      "execution_count": null,
      "outputs": [
        {
          "output_type": "execute_result",
          "data": {
            "text/plain": [
              "tensor([[ 930, 1230],\n",
              "        [2490, 3390]])"
            ]
          },
          "metadata": {},
          "execution_count": 121
        }
      ]
    },
    {
      "cell_type": "code",
      "source": [],
      "metadata": {
        "id": "muCaLMdCRGfJ"
      },
      "execution_count": null,
      "outputs": []
    },
    {
      "cell_type": "code",
      "source": [
        "## Finding min, max, mean, sum, etc (tensor aggregation)"
      ],
      "metadata": {
        "id": "td5g_IRcnLAh"
      },
      "execution_count": null,
      "outputs": []
    },
    {
      "cell_type": "code",
      "source": [
        "x = torch.arange(0, 101, 10)"
      ],
      "metadata": {
        "id": "CeLLR-bjnTqZ"
      },
      "execution_count": null,
      "outputs": []
    },
    {
      "cell_type": "code",
      "source": [
        "x"
      ],
      "metadata": {
        "colab": {
          "base_uri": "https://localhost:8080/"
        },
        "id": "xxQtHEQBnct4",
        "outputId": "f04b2149-6ce2-4342-8018-feffaa21bbff"
      },
      "execution_count": null,
      "outputs": [
        {
          "output_type": "execute_result",
          "data": {
            "text/plain": [
              "tensor([  0,  10,  20,  30,  40,  50,  60,  70,  80,  90, 100])"
            ]
          },
          "metadata": {},
          "execution_count": 124
        }
      ]
    },
    {
      "cell_type": "code",
      "source": [
        "x.min()"
      ],
      "metadata": {
        "colab": {
          "base_uri": "https://localhost:8080/"
        },
        "id": "zJXJLyXJndII",
        "outputId": "5a4fad75-65c0-4369-cfe5-b056dfdb567d"
      },
      "execution_count": null,
      "outputs": [
        {
          "output_type": "execute_result",
          "data": {
            "text/plain": [
              "tensor(0)"
            ]
          },
          "metadata": {},
          "execution_count": 125
        }
      ]
    },
    {
      "cell_type": "code",
      "source": [
        "x.max()"
      ],
      "metadata": {
        "colab": {
          "base_uri": "https://localhost:8080/"
        },
        "id": "UH6iwI_dnlUo",
        "outputId": "96fa7d31-ca2b-4de4-a734-8fe305bbe3f0"
      },
      "execution_count": null,
      "outputs": [
        {
          "output_type": "execute_result",
          "data": {
            "text/plain": [
              "tensor(100)"
            ]
          },
          "metadata": {},
          "execution_count": 126
        }
      ]
    },
    {
      "cell_type": "code",
      "source": [
        "x.sum()"
      ],
      "metadata": {
        "colab": {
          "base_uri": "https://localhost:8080/"
        },
        "id": "Sa8920u2nmfI",
        "outputId": "1d2f4950-6145-4af3-b3e8-4cf4c8febe2f"
      },
      "execution_count": null,
      "outputs": [
        {
          "output_type": "execute_result",
          "data": {
            "text/plain": [
              "tensor(550)"
            ]
          },
          "metadata": {},
          "execution_count": 127
        }
      ]
    },
    {
      "cell_type": "code",
      "source": [
        "torch.median(x)"
      ],
      "metadata": {
        "colab": {
          "base_uri": "https://localhost:8080/"
        },
        "id": "Dewh7i5UnnvY",
        "outputId": "f2931ff7-cea0-4c54-c7dc-f09e5bea06cd"
      },
      "execution_count": null,
      "outputs": [
        {
          "output_type": "execute_result",
          "data": {
            "text/plain": [
              "tensor(50)"
            ]
          },
          "metadata": {},
          "execution_count": 128
        }
      ]
    },
    {
      "cell_type": "code",
      "source": [
        "mat1"
      ],
      "metadata": {
        "colab": {
          "base_uri": "https://localhost:8080/"
        },
        "id": "X6bgSi3puwQT",
        "outputId": "b0a8067b-2aff-4b7a-d6b8-c7678e2509d1"
      },
      "execution_count": null,
      "outputs": [
        {
          "output_type": "execute_result",
          "data": {
            "text/plain": [
              "tensor([[10, 20],\n",
              "        [40, 50]])"
            ]
          },
          "metadata": {},
          "execution_count": 129
        }
      ]
    },
    {
      "cell_type": "code",
      "source": [
        "# argmin(), Position\n",
        "mat1.max(dim=1)"
      ],
      "metadata": {
        "colab": {
          "base_uri": "https://localhost:8080/"
        },
        "id": "-iyC87HYnqYY",
        "outputId": "821391a3-f886-4cf4-8f7a-156f4263b29d"
      },
      "execution_count": null,
      "outputs": [
        {
          "output_type": "execute_result",
          "data": {
            "text/plain": [
              "torch.return_types.max(\n",
              "values=tensor([20, 50]),\n",
              "indices=tensor([1, 1]))"
            ]
          },
          "metadata": {},
          "execution_count": 130
        }
      ]
    },
    {
      "cell_type": "code",
      "source": [
        "mat1[1][1]"
      ],
      "metadata": {
        "colab": {
          "base_uri": "https://localhost:8080/"
        },
        "id": "UIbs1RE7o2_H",
        "outputId": "32d3128a-ed15-4b65-9e08-7b7365487e52"
      },
      "execution_count": null,
      "outputs": [
        {
          "output_type": "execute_result",
          "data": {
            "text/plain": [
              "tensor(50)"
            ]
          },
          "metadata": {},
          "execution_count": 131
        }
      ]
    },
    {
      "cell_type": "code",
      "source": [],
      "metadata": {
        "id": "nSoEV5ZjpPdX"
      },
      "execution_count": null,
      "outputs": []
    },
    {
      "cell_type": "markdown",
      "source": [
        "## Reshaping, Stacking, Squeezing, Unsqueezing tensors"
      ],
      "metadata": {
        "id": "sSRBslF4vddo"
      }
    },
    {
      "cell_type": "code",
      "source": [
        "tensor = torch.arange(1,10)"
      ],
      "metadata": {
        "id": "0nA1goU6vn4C"
      },
      "execution_count": null,
      "outputs": []
    },
    {
      "cell_type": "code",
      "source": [
        "x = tensor.reshape(3,3)"
      ],
      "metadata": {
        "id": "a7HcTOJrJDpf"
      },
      "execution_count": null,
      "outputs": []
    },
    {
      "cell_type": "code",
      "source": [
        "# shares memory with x\n",
        "z = x.view(1,9)"
      ],
      "metadata": {
        "id": "Ua__p4GjJGXv"
      },
      "execution_count": null,
      "outputs": []
    },
    {
      "cell_type": "code",
      "source": [
        "z"
      ],
      "metadata": {
        "colab": {
          "base_uri": "https://localhost:8080/"
        },
        "id": "N1OrHD2pJVNP",
        "outputId": "fc1aecc9-4a43-404c-9988-801898a6485e"
      },
      "execution_count": null,
      "outputs": [
        {
          "output_type": "execute_result",
          "data": {
            "text/plain": [
              "tensor([[1, 2, 3, 4, 5, 6, 7, 8, 9]])"
            ]
          },
          "metadata": {},
          "execution_count": 144
        }
      ]
    },
    {
      "cell_type": "code",
      "source": [
        "x"
      ],
      "metadata": {
        "colab": {
          "base_uri": "https://localhost:8080/"
        },
        "id": "aTgmnrgcJhxv",
        "outputId": "8c6d41d4-feb8-4691-949c-76d07186c17c"
      },
      "execution_count": null,
      "outputs": [
        {
          "output_type": "execute_result",
          "data": {
            "text/plain": [
              "tensor([[1, 2, 3],\n",
              "        [4, 5, 6],\n",
              "        [7, 8, 9]])"
            ]
          },
          "metadata": {},
          "execution_count": 145
        }
      ]
    },
    {
      "cell_type": "code",
      "source": [
        "torch.stack([x, x, x], dim=1)"
      ],
      "metadata": {
        "colab": {
          "base_uri": "https://localhost:8080/"
        },
        "id": "zr57fvtYJqDP",
        "outputId": "c24dabe2-e4c1-4a82-beba-08e5f6635c18"
      },
      "execution_count": null,
      "outputs": [
        {
          "output_type": "execute_result",
          "data": {
            "text/plain": [
              "tensor([[[1, 2, 3],\n",
              "         [1, 2, 3],\n",
              "         [1, 2, 3]],\n",
              "\n",
              "        [[4, 5, 6],\n",
              "         [4, 5, 6],\n",
              "         [4, 5, 6]],\n",
              "\n",
              "        [[7, 8, 9],\n",
              "         [7, 8, 9],\n",
              "         [7, 8, 9]]])"
            ]
          },
          "metadata": {},
          "execution_count": 149
        }
      ]
    },
    {
      "cell_type": "code",
      "source": [
        "torch.stack([x, x, x], dim=0)"
      ],
      "metadata": {
        "colab": {
          "base_uri": "https://localhost:8080/"
        },
        "id": "7_QE1xW4J1Me",
        "outputId": "1ad869d4-12c2-4fb5-98fb-186b017e9714"
      },
      "execution_count": null,
      "outputs": [
        {
          "output_type": "execute_result",
          "data": {
            "text/plain": [
              "tensor([[[1, 2, 3],\n",
              "         [4, 5, 6],\n",
              "         [7, 8, 9]],\n",
              "\n",
              "        [[1, 2, 3],\n",
              "         [4, 5, 6],\n",
              "         [7, 8, 9]],\n",
              "\n",
              "        [[1, 2, 3],\n",
              "         [4, 5, 6],\n",
              "         [7, 8, 9]]])"
            ]
          },
          "metadata": {},
          "execution_count": 150
        }
      ]
    },
    {
      "cell_type": "code",
      "source": [
        "torch.manual_seed(123)"
      ],
      "metadata": {
        "colab": {
          "base_uri": "https://localhost:8080/"
        },
        "id": "F6lB4Bg1KJcO",
        "outputId": "3b09ca9a-ef8a-486f-8faa-e52be991ea5a"
      },
      "execution_count": null,
      "outputs": [
        {
          "output_type": "execute_result",
          "data": {
            "text/plain": [
              "<torch._C.Generator at 0x7fabc672a850>"
            ]
          },
          "metadata": {},
          "execution_count": 151
        }
      ]
    },
    {
      "cell_type": "code",
      "source": [],
      "metadata": {
        "id": "0e7RgsCKUjCW"
      },
      "execution_count": null,
      "outputs": []
    },
    {
      "cell_type": "code",
      "source": [],
      "metadata": {
        "id": "XXiXs3tyj3Na"
      },
      "execution_count": null,
      "outputs": []
    },
    {
      "cell_type": "code",
      "source": [
        "import torch"
      ],
      "metadata": {
        "id": "QHZ54h5Cj3Ka"
      },
      "execution_count": null,
      "outputs": []
    },
    {
      "cell_type": "code",
      "source": [
        "torch.cuda.is_available()"
      ],
      "metadata": {
        "colab": {
          "base_uri": "https://localhost:8080/"
        },
        "id": "uyslr7PCj5iq",
        "outputId": "25ee0f74-e621-420b-bccb-5219e4c1f99a"
      },
      "execution_count": null,
      "outputs": [
        {
          "output_type": "execute_result",
          "data": {
            "text/plain": [
              "True"
            ]
          },
          "metadata": {},
          "execution_count": 2
        }
      ]
    },
    {
      "cell_type": "code",
      "source": [
        "device = \"cuda\" if torch.cuda.is_available() else \"cpu\""
      ],
      "metadata": {
        "id": "8mYCtdDgoBfI"
      },
      "execution_count": null,
      "outputs": []
    },
    {
      "cell_type": "code",
      "source": [
        "device"
      ],
      "metadata": {
        "colab": {
          "base_uri": "https://localhost:8080/",
          "height": 35
        },
        "id": "X-FnC7tbpUg3",
        "outputId": "1b4681b5-ed52-4f4e-c771-33be29b45512"
      },
      "execution_count": null,
      "outputs": [
        {
          "output_type": "execute_result",
          "data": {
            "text/plain": [
              "'cuda'"
            ],
            "application/vnd.google.colaboratory.intrinsic+json": {
              "type": "string"
            }
          },
          "metadata": {},
          "execution_count": 4
        }
      ]
    },
    {
      "cell_type": "code",
      "source": [
        "torch.cuda.device_count()"
      ],
      "metadata": {
        "colab": {
          "base_uri": "https://localhost:8080/"
        },
        "id": "BjdqT9rEpVn3",
        "outputId": "5a2e2abe-d5d5-448f-abd8-fdb664159d50"
      },
      "execution_count": null,
      "outputs": [
        {
          "output_type": "execute_result",
          "data": {
            "text/plain": [
              "1"
            ]
          },
          "metadata": {},
          "execution_count": 5
        }
      ]
    },
    {
      "cell_type": "code",
      "source": [
        "tensor = torch.arange(0,12).reshape(4,3)"
      ],
      "metadata": {
        "id": "11AE8jhBpiRm"
      },
      "execution_count": null,
      "outputs": []
    },
    {
      "cell_type": "code",
      "source": [
        "tensor_on_gpu = tensor.to(device)"
      ],
      "metadata": {
        "id": "FEIsbO9f0Rw_"
      },
      "execution_count": null,
      "outputs": []
    },
    {
      "cell_type": "code",
      "source": [
        "tensor_on_gpu"
      ],
      "metadata": {
        "colab": {
          "base_uri": "https://localhost:8080/"
        },
        "id": "noAM9KPb0dL-",
        "outputId": "ff99ae91-7bd3-4d65-a0a8-7a39e194da19"
      },
      "execution_count": null,
      "outputs": [
        {
          "output_type": "execute_result",
          "data": {
            "text/plain": [
              "tensor([[ 0,  1,  2],\n",
              "        [ 3,  4,  5],\n",
              "        [ 6,  7,  8],\n",
              "        [ 9, 10, 11]], device='cuda:0')"
            ]
          },
          "metadata": {},
          "execution_count": 9
        }
      ]
    },
    {
      "cell_type": "code",
      "source": [
        "tensor_back_on_cpu = tensor_on_gpu.cpu().numpy()"
      ],
      "metadata": {
        "id": "KNAsxcjp0hi-"
      },
      "execution_count": null,
      "outputs": []
    },
    {
      "cell_type": "code",
      "source": [
        "tensor_back_on_cpu"
      ],
      "metadata": {
        "colab": {
          "base_uri": "https://localhost:8080/"
        },
        "id": "PFhc4MFc0xU-",
        "outputId": "1ff35d01-3faa-4045-ca40-230e8f88cd1f"
      },
      "execution_count": null,
      "outputs": [
        {
          "output_type": "execute_result",
          "data": {
            "text/plain": [
              "array([[ 0,  1,  2],\n",
              "       [ 3,  4,  5],\n",
              "       [ 6,  7,  8],\n",
              "       [ 9, 10, 11]])"
            ]
          },
          "metadata": {},
          "execution_count": 16
        }
      ]
    },
    {
      "cell_type": "code",
      "source": [],
      "metadata": {
        "id": "6l3CqZWY01_-"
      },
      "execution_count": null,
      "outputs": []
    }
  ]
}